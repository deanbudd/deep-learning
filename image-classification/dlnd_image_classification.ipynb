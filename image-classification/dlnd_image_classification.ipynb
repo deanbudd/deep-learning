{
 "cells": [
  {
   "cell_type": "markdown",
   "metadata": {
    "collapsed": true
   },
   "source": [
    "# Image Classification\n",
    "In this project, you'll classify images from the [CIFAR-10 dataset](https://www.cs.toronto.edu/~kriz/cifar.html).  The dataset consists of airplanes, dogs, cats, and other objects. You'll preprocess the images, then train a convolutional neural network on all the samples. The images need to be normalized and the labels need to be one-hot encoded.  You'll get to apply what you learned and build a convolutional, max pooling, dropout, and fully connected layers.  At the end, you'll get to see your neural network's predictions on the sample images.\n",
    "## Get the Data\n",
    "Run the following cell to download the [CIFAR-10 dataset for python](https://www.cs.toronto.edu/~kriz/cifar-10-python.tar.gz)."
   ]
  },
  {
   "cell_type": "code",
   "execution_count": 1,
   "metadata": {
    "collapsed": true
   },
   "outputs": [],
   "source": [
    "\"\"\"\n",
    "DON'T MODIFY ANYTHING IN THIS CELL THAT IS BELOW THIS LINE\n",
    "\"\"\"\n",
    "from urllib.request import urlretrieve\n",
    "from os.path import isfile, isdir\n",
    "from tqdm import tqdm\n",
    "import problem_unittests as tests\n",
    "import tarfile\n",
    "\n",
    "cifar10_dataset_folder_path = 'cifar-10-batches-py'\n",
    "\n",
    "# Use Floyd's cifar-10 dataset if present\n",
    "floyd_cifar10_location = '/input/cifar-10/python.tar.gz'\n",
    "if isfile(floyd_cifar10_location):\n",
    "    tar_gz_path = floyd_cifar10_location\n",
    "else:\n",
    "    tar_gz_path = 'cifar-10-python.tar.gz'\n",
    "\n",
    "class DLProgress(tqdm):\n",
    "    last_block = 0\n",
    "\n",
    "    def hook(self, block_num=1, block_size=1, total_size=None):\n",
    "        self.total = total_size\n",
    "        self.update((block_num - self.last_block) * block_size)\n",
    "        self.last_block = block_num\n",
    "\n",
    "if not isfile(tar_gz_path):\n",
    "    with DLProgress(unit='B', unit_scale=True, miniters=1, desc='CIFAR-10 Dataset') as pbar:\n",
    "        urlretrieve(\n",
    "            'https://www.cs.toronto.edu/~kriz/cifar-10-python.tar.gz',\n",
    "            tar_gz_path,\n",
    "            pbar.hook)\n",
    "\n",
    "if not isdir(cifar10_dataset_folder_path):\n",
    "    with tarfile.open(tar_gz_path) as tar:\n",
    "        tar.extractall()\n",
    "        tar.close()\n",
    "\n",
    "\n",
    "tests.test_folder_path(cifar10_dataset_folder_path)"
   ]
  },
  {
   "cell_type": "markdown",
   "metadata": {},
   "source": [
    "## Explore the Data\n",
    "The dataset is broken into batches to prevent your machine from running out of memory.  The CIFAR-10 dataset consists of 5 batches, named `data_batch_1`, `data_batch_2`, etc.. Each batch contains the labels and images that are one of the following:\n",
    "* airplane\n",
    "* automobile\n",
    "* bird\n",
    "* cat\n",
    "* deer\n",
    "* dog\n",
    "* frog\n",
    "* horse\n",
    "* ship\n",
    "* truck\n",
    "\n",
    "Understanding a dataset is part of making predictions on the data.  Play around with the code cell below by changing the `batch_id` and `sample_id`. The `batch_id` is the id for a batch (1-5). The `sample_id` is the id for a image and label pair in the batch.\n",
    "\n",
    "Ask yourself \"What are all possible labels?\", \"What is the range of values for the image data?\", \"Are the labels in order or random?\".  Answers to questions like these will help you preprocess the data and end up with better predictions."
   ]
  },
  {
   "cell_type": "code",
   "execution_count": 31,
   "metadata": {},
   "outputs": [
    {
     "name": "stdout",
     "output_type": "stream",
     "text": [
      "\n",
      "Stats of batch 1:\n",
      "Samples: 10000\n",
      "Label Counts: {0: 1005, 1: 974, 2: 1032, 3: 1016, 4: 999, 5: 937, 6: 1030, 7: 1001, 8: 1025, 9: 981}\n",
      "First 20 Labels: [6, 9, 9, 4, 1, 1, 2, 7, 8, 3, 4, 7, 7, 2, 9, 9, 9, 3, 2, 6]\n",
      "\n",
      "Example of Image 5:\n",
      "Image - Min Value: 0 Max Value: 252\n",
      "Image - Shape: (32, 32, 3)\n",
      "Label - Label Id: 1 Name: automobile\n"
     ]
    },
    {
     "data": {
      "image/png": "[encoded data removed]",
      "text/plain": [
       "<matplotlib.figure.Figure at 0x1252a1b00>"
      ]
     },
     "metadata": {
      "image/png": {
       "height": 250.0,
       "width": 253.0
      }
     },
     "output_type": "display_data"
    }
   ],
   "source": [
    "%matplotlib inline\n",
    "%config InlineBackend.figure_format = 'retina'\n",
    "\n",
    "import helper\n",
    "import numpy as np\n",
    "\n",
    "# Explore the dataset\n",
    "batch_id = 1\n",
    "sample_id = 5\n",
    "helper.display_stats(cifar10_dataset_folder_path, batch_id, sample_id)"
   ]
  },
  {
   "cell_type": "markdown",
   "metadata": {},
   "source": [
    "## Implement Preprocess Functions\n",
    "### Normalize\n",
    "In the cell below, implement the `normalize` function to take in image data, `x`, and return it as a normalized Numpy array. The values should be in the range of 0 to 1, inclusive.  The return object should be the same shape as `x`."
   ]
  },
  {
   "cell_type": "code",
   "execution_count": 94,
   "metadata": {},
   "outputs": [
    {
     "name": "stdout",
     "output_type": "stream",
     "text": [
      "(292, 32, 32, 3)\n",
      "Tests Passed\n"
     ]
    }
   ],
   "source": [
    "def normalize(x):\n",
    "    \"\"\"\n",
    "    Normalize a list of sample image data in the range of 0 to 1\n",
    "    : x: List of image data.  The image shape is (32, 32, 3)\n",
    "    : return: Numpy array of normalize data\n",
    "    \"\"\"\n",
    "    print(x.shape)\n",
    "    return (x - x.min()) / (x.max() - x.min())\n",
    "\n",
    "\"\"\"\n",
    "DON'T MODIFY ANYTHING IN THIS CELL THAT IS BELOW THIS LINE\n",
    "\"\"\"\n",
    "tests.test_normalize(normalize)"
   ]
  },
  {
   "cell_type": "markdown",
   "metadata": {},
   "source": [
    "### One-hot encode\n",
    "Just like the previous code cell, you'll be implementing a function for preprocessing.  This time, you'll implement the `one_hot_encode` function. The input, `x`, are a list of labels.  Implement the function to return the list of labels as One-Hot encoded Numpy array.  The possible values for labels are 0 to 9. The one-hot encoding function should return the same encoding for each value between each call to `one_hot_encode`.  Make sure to save the map of encodings outside the function.\n",
    "\n",
    "Hint: Don't reinvent the wheel."
   ]
  },
  {
   "cell_type": "code",
   "execution_count": 110,
   "metadata": {},
   "outputs": [
    {
     "name": "stdout",
     "output_type": "stream",
     "text": [
      "Tests Passed\n"
     ]
    }
   ],
   "source": [
    "def one_hot_encode(x):\n",
    "    \"\"\"\n",
    "    One hot encode a list of sample labels. Return a one-hot encoded vector for each label.\n",
    "    : x: List of sample Labels\n",
    "    : return: Numpy array of one-hot encoded labels\n",
    "    \"\"\"\n",
    "    # convert each element in the array into a label vector\n",
    "    # 3 => [0,0,1,0,0,0,0,0,0,0], 7 => [0,0,0,0,0,0,1,0,0,0], etc\n",
    "    \n",
    "    label_vectors = np.zeros((len(x), 10))\n",
    "\n",
    "    for i in range(len(x)):\n",
    "        label = x[i]\n",
    "        label_vectors[i, label] = 1\n",
    "\n",
    "    return label_vectors\n",
    "\n",
    "\"\"\"|\n",
    "DON'T MODIFY ANYTHING IN THIS CELL THAT IS BELOW THIS LINE\n",
    "\"\"\"\n",
    "tests.test_one_hot_encode(one_hot_encode)"
   ]
  },
  {
   "cell_type": "markdown",
   "metadata": {},
   "source": [
    "### Randomize Data\n",
    "As you saw from exploring the data above, the order of the samples are randomized.  It doesn't hurt to randomize it again, but you don't need to for this dataset."
   ]
  },
  {
   "cell_type": "markdown",
   "metadata": {},
   "source": [
    "## Preprocess all the data and save it\n",
    "Running the code cell below will preprocess all the CIFAR-10 data and save it to file. The code below also uses 10% of the training data for validation."
   ]
  },
  {
   "cell_type": "code",
   "execution_count": 111,
   "metadata": {},
   "outputs": [
    {
     "name": "stdout",
     "output_type": "stream",
     "text": [
      "(9000, 32, 32, 3)\n",
      "(9000, 32, 32, 3)\n",
      "(9000, 32, 32, 3)\n",
      "(9000, 32, 32, 3)\n",
      "(9000, 32, 32, 3)\n",
      "(5000, 32, 32, 3)\n",
      "(10000, 32, 32, 3)\n"
     ]
    }
   ],
   "source": [
    "\"\"\"\n",
    "DON'T MODIFY ANYTHING IN THIS CELL\n",
    "\"\"\"\n",
    "# Preprocess Training, Validation, and Testing Data\n",
    "helper.preprocess_and_save_data(cifar10_dataset_folder_path, normalize, one_hot_encode)"
   ]
  },
  {
   "cell_type": "markdown",
   "metadata": {},
   "source": [
    "# Check Point\n",
    "This is your first checkpoint.  If you ever decide to come back to this notebook or have to restart the notebook, you can start from here.  The preprocessed data has been saved to disk."
   ]
  },
  {
   "cell_type": "code",
   "execution_count": 112,
   "metadata": {
    "collapsed": true
   },
   "outputs": [],
   "source": [
    "\"\"\"\n",
    "DON'T MODIFY ANYTHING IN THIS CELL\n",
    "\"\"\"\n",
    "import pickle\n",
    "import problem_unittests as tests\n",
    "import helper\n",
    "\n",
    "# Load the Preprocessed Validation data\n",
    "valid_features, valid_labels = pickle.load(open('preprocess_validation.p', mode='rb'))"
   ]
  },
  {
   "cell_type": "markdown",
   "metadata": {},
   "source": [
    "## Build the network\n",
    "For the neural network, you'll build each layer into a function.  Most of the code you've seen has been outside of functions. To test your code more thoroughly, we require that you put each layer in a function.  This allows us to give you better feedback and test for simple mistakes using our unittests before you submit your project.\n",
    "\n",
    ">**Note:** If you're finding it hard to dedicate enough time for this course each week, we've provided a small shortcut to this part of the project. In the next couple of problems, you'll have the option to use classes from the [TensorFlow Layers](https://www.tensorflow.org/api_docs/python/tf/layers) or [TensorFlow Layers (contrib)](https://www.tensorflow.org/api_guides/python/contrib.layers) packages to build each layer, except the layers you build in the \"Convolutional and Max Pooling Layer\" section.  TF Layers is similar to Keras's and TFLearn's abstraction to layers, so it's easy to pickup.\n",
    "\n",
    ">However, if you would like to get the most out of this course, try to solve all the problems _without_ using anything from the TF Layers packages. You **can** still use classes from other packages that happen to have the same name as ones you find in TF Layers! For example, instead of using the TF Layers version of the `conv2d` class, [tf.layers.conv2d](https://www.tensorflow.org/api_docs/python/tf/layers/conv2d), you would want to use the TF Neural Network version of `conv2d`, [tf.nn.conv2d](https://www.tensorflow.org/api_docs/python/tf/nn/conv2d). \n",
    "\n",
    "Let's begin!\n",
    "\n",
    "### Input\n",
    "The neural network needs to read the image data, one-hot encoded labels, and dropout keep probability. Implement the following functions\n",
    "* Implement `neural_net_image_input`\n",
    " * Return a [TF Placeholder](https://www.tensorflow.org/api_docs/python/tf/placeholder)\n",
    " * Set the shape using `image_shape` with batch size set to `None`.\n",
    " * Name the TensorFlow placeholder \"x\" using the TensorFlow `name` parameter in the [TF Placeholder](https://www.tensorflow.org/api_docs/python/tf/placeholder).\n",
    "* Implement `neural_net_label_input`\n",
    " * Return a [TF Placeholder](https://www.tensorflow.org/api_docs/python/tf/placeholder)\n",
    " * Set the shape using `n_classes` with batch size set to `None`.\n",
    " * Name the TensorFlow placeholder \"y\" using the TensorFlow `name` parameter in the [TF Placeholder](https://www.tensorflow.org/api_docs/python/tf/placeholder).\n",
    "* Implement `neural_net_keep_prob_input`\n",
    " * Return a [TF Placeholder](https://www.tensorflow.org/api_docs/python/tf/placeholder) for dropout keep probability.\n",
    " * Name the TensorFlow placeholder \"keep_prob\" using the TensorFlow `name` parameter in the [TF Placeholder](https://www.tensorflow.org/api_docs/python/tf/placeholder).\n",
    "\n",
    "These names will be used at the end of the project to load your saved model.\n",
    "\n",
    "Note: `None` for shapes in TensorFlow allow for a dynamic size."
   ]
  },
  {
   "cell_type": "code",
   "execution_count": 141,
   "metadata": {},
   "outputs": [
    {
     "name": "stdout",
     "output_type": "stream",
     "text": [
      "Image Input Tests Passed.\n",
      "Label Input Tests Passed.\n",
      "Keep Prob Tests Passed.\n"
     ]
    }
   ],
   "source": [
    "import tensorflow as tf\n",
    "\n",
    "def neural_net_image_input(image_shape):\n",
    "    \"\"\"\n",
    "    Return a Tensor for a batch of image input\n",
    "    : image_shape: Shape of the images\n",
    "    : return: Tensor for image input.\n",
    "    \"\"\"\n",
    "    return tf.placeholder(tf.float32, [None, *image_shape], \"x\")\n",
    "\n",
    "def neural_net_label_input(n_classes):\n",
    "    \"\"\"\n",
    "    Return a Tensor for a batch of label input\n",
    "    : n_classes: Number of classes\n",
    "    : return: Tensor for label input.\n",
    "    \"\"\"\n",
    "    return tf.placeholder(tf.float32, [None, n_classes], \"y\")\n",
    "\n",
    "\n",
    "def neural_net_keep_prob_input():\n",
    "    \"\"\"\n",
    "    Return a Tensor for keep probability\n",
    "    : return: Tensor for keep probability.\n",
    "    \"\"\"\n",
    "    return tf.placeholder(tf.float32, None, \"keep_prob\")\n",
    "\n",
    "\"\"\"\n",
    "DON'T MODIFY ANYTHING IN THIS CELL THAT IS BELOW THIS LINE\n",
    "\"\"\"\n",
    "tf.reset_default_graph()\n",
    "tests.test_nn_image_inputs(neural_net_image_input)\n",
    "tests.test_nn_label_inputs(neural_net_label_input)\n",
    "tests.test_nn_keep_prob_inputs(neural_net_keep_prob_input)"
   ]
  },
  {
   "cell_type": "markdown",
   "metadata": {},
   "source": [
    "### Convolution and Max Pooling Layer\n",
    "Convolution layers have a lot of success with images. For this code cell, you should implement the function `conv2d_maxpool` to apply convolution then max pooling:\n",
    "* Create the weight and bias using `conv_ksize`, `conv_num_outputs` and the shape of `x_tensor`.\n",
    "* Apply a convolution to `x_tensor` using weight and `conv_strides`.\n",
    " * We recommend you use same padding, but you're welcome to use any padding.\n",
    "* Add bias\n",
    "* Add a nonlinear activation to the convolution.\n",
    "* Apply Max Pooling using `pool_ksize` and `pool_strides`.\n",
    " * We recommend you use same padding, but you're welcome to use any padding.\n",
    "\n",
    "**Note:** You **can't** use [TensorFlow Layers](https://www.tensorflow.org/api_docs/python/tf/layers) or [TensorFlow Layers (contrib)](https://www.tensorflow.org/api_guides/python/contrib.layers) for **this** layer, but you can still use TensorFlow's [Neural Network](https://www.tensorflow.org/api_docs/python/tf/nn) package. You may still use the shortcut option for all the **other** layers."
   ]
  },
  {
   "cell_type": "code",
   "execution_count": 290,
   "metadata": {},
   "outputs": [
    {
     "name": "stdout",
     "output_type": "stream",
     "text": [
      "Tests Passed\n"
     ]
    }
   ],
   "source": [
    "def conv2d_maxpool(x_tensor, conv_num_outputs, conv_ksize, conv_strides, pool_ksize, pool_strides):\n",
    "    \"\"\"\n",
    "    Apply convolution then max pooling to x_tensor\n",
    "    :param x_tensor: TensorFlow Tensor\n",
    "    :param conv_num_outputs: Number of outputs for the convolutional layer\n",
    "    :param conv_ksize: kernal size 2-D Tuple for the convolutional layer\n",
    "    :param conv_strides: Stride 2-D Tuple for convolution\n",
    "    :param pool_ksize: kernal size 2-D Tuple for pool\n",
    "    :param pool_strides: Stride 2-D Tuple for pool\n",
    "    : return: A tensor that represents convolution and max pooling of x_tensor\n",
    "    \"\"\"\n",
    "    \n",
    "    x_shape = x_tensor.get_shape().as_list()\n",
    "    x_depth = x_shape[3]\n",
    "    kernel_shape = [*conv_ksize, x_depth, conv_num_outputs]\n",
    "    \n",
    "    a_good_standard_deviation = 0.1\n",
    "    zero_mean = 0\n",
    "    kernel_weights = tf.Variable(tf.truncated_normal(kernel_shape, zero_mean, a_good_standard_deviation))\n",
    "    \n",
    "    kernel_bias = filter_bias = tf.Variable(tf.zeros(conv_num_outputs))\n",
    "    \n",
    "    conv_layer = tf.nn.conv2d(x_tensor, \n",
    "                              kernel_weights, \n",
    "                              strides=[1, *conv_strides, 1], \n",
    "                              padding='SAME')\n",
    "    \n",
    "    conv_layer = tf.nn.bias_add(conv_layer, kernel_bias)\n",
    "    \n",
    "    conv_layer = tf.nn.relu(conv_layer)\n",
    "\n",
    "    conv_layer = tf.nn.max_pool(conv_layer,\n",
    "                                ksize=[1, *pool_ksize, 1],\n",
    "                                strides=[1, *pool_strides, 1],\n",
    "                                padding='SAME')\n",
    "    \n",
    "    return conv_layer \n",
    "\n",
    "\"\"\"\n",
    "DON'T MODIFY ANYTHING IN THIS CELL THAT IS BELOW THIS LINE\n",
    "\"\"\"\n",
    "tests.test_con_pool(conv2d_maxpool)"
   ]
  },
  {
   "cell_type": "markdown",
   "metadata": {},
   "source": [
    "### Flatten Layer\n",
    "Implement the `flatten` function to change the dimension of `x_tensor` from a 4-D tensor to a 2-D tensor.  The output should be the shape (*Batch Size*, *Flattened Image Size*). Shortcut option: you can use classes from the [TensorFlow Layers](https://www.tensorflow.org/api_docs/python/tf/layers) or [TensorFlow Layers (contrib)](https://www.tensorflow.org/api_guides/python/contrib.layers) packages for this layer. For more of a challenge, only use other TensorFlow packages."
   ]
  },
  {
   "cell_type": "code",
   "execution_count": 291,
   "metadata": {},
   "outputs": [
    {
     "name": "stdout",
     "output_type": "stream",
     "text": [
      "Tests Passed\n"
     ]
    }
   ],
   "source": [
    "import numpy as np\n",
    "\n",
    "def flatten(x_tensor):\n",
    "    \"\"\"\n",
    "    Flatten x_tensor to (Batch Size, Flattened Image Size)\n",
    "    : x_tensor: A tensor of size (Batch Size, ...), where ... are the image dimensions.\n",
    "    : return: A tensor of size (Batch Size, Flattened Image Size).\n",
    "    \"\"\"\n",
    "    x_shape = x_tensor.get_shape().as_list()\n",
    "    x_shape = x_shape[1:]\n",
    "    \n",
    "    flat_image = np.prod(x_shape)\n",
    "    \n",
    "    return tf.reshape(x_tensor,[-1, flat_image])\n",
    "\n",
    "\"\"\"\n",
    "DON'T MODIFY ANYTHING IN THIS CELL THAT IS BELOW THIS LINE\n",
    "\"\"\"\n",
    "tests.test_flatten(flatten)"
   ]
  },
  {
   "cell_type": "markdown",
   "metadata": {},
   "source": [
    "### Fully-Connected Layer\n",
    "Implement the `fully_conn` function to apply a fully connected layer to `x_tensor` with the shape (*Batch Size*, *num_outputs*). Shortcut option: you can use classes from the [TensorFlow Layers](https://www.tensorflow.org/api_docs/python/tf/layers) or [TensorFlow Layers (contrib)](https://www.tensorflow.org/api_guides/python/contrib.layers) packages for this layer. For more of a challenge, only use other TensorFlow packages."
   ]
  },
  {
   "cell_type": "code",
   "execution_count": 292,
   "metadata": {},
   "outputs": [
    {
     "name": "stdout",
     "output_type": "stream",
     "text": [
      "Tests Passed\n"
     ]
    }
   ],
   "source": [
    "def fully_conn(x_tensor, num_outputs):\n",
    "    \"\"\"\n",
    "    Apply a fully connected layer to x_tensor using weight and bias\n",
    "    : x_tensor: A 2-D tensor where the first dimension is batch size.\n",
    "    : num_outputs: The number of output that the new tensor should be.\n",
    "    : return: A 2-D tensor where the second dimension is num_outputs.\n",
    "    \"\"\"\n",
    "    x_shape = x_tensor.get_shape().as_list()\n",
    "    x_shape = x_shape[1:]\n",
    "    \n",
    "    x_shape = [*x_shape, num_outputs]\n",
    "\n",
    "    a_good_standard_deviation = 0.1\n",
    "    zero_mean = 0\n",
    "    weights = tf.Variable(tf.truncated_normal(x_shape, zero_mean, a_good_standard_deviation))\n",
    "    \n",
    "    bias = tf.Variable(tf.zeros(num_outputs))\n",
    "    \n",
    "    hidden_layer_input = tf.matmul(x_tensor, weights)\n",
    "    hidden_layer_input = tf.add(hidden_layer_input, bias)\n",
    "    \n",
    "    hidden_layer_output = tf.nn.relu(hidden_layer_input)\n",
    "    \n",
    "    return hidden_layer_output\n",
    "\n",
    "\"\"\"\n",
    "DON'T MODIFY ANYTHING IN THIS CELL THAT IS BELOW THIS LINE\n",
    "\"\"\"\n",
    "tests.test_fully_conn(fully_conn)"
   ]
  },
  {
   "cell_type": "markdown",
   "metadata": {},
   "source": [
    "### Output Layer\n",
    "Implement the `output` function to apply a fully connected layer to `x_tensor` with the shape (*Batch Size*, *num_outputs*). Shortcut option: you can use classes from the [TensorFlow Layers](https://www.tensorflow.org/api_docs/python/tf/layers) or [TensorFlow Layers (contrib)](https://www.tensorflow.org/api_guides/python/contrib.layers) packages for this layer. For more of a challenge, only use other TensorFlow packages.\n",
    "\n",
    "**Note:** Activation, softmax, or cross entropy should **not** be applied to this."
   ]
  },
  {
   "cell_type": "code",
   "execution_count": 297,
   "metadata": {},
   "outputs": [
    {
     "name": "stdout",
     "output_type": "stream",
     "text": [
      "Tests Passed\n"
     ]
    }
   ],
   "source": [
    "def output(x_tensor, num_outputs):\n",
    "    \"\"\"\n",
    "    Apply a output layer to x_tensor using weight and bias\n",
    "    : x_tensor: A 2-D tensor where the first dimension is batch size.\n",
    "    : num_outputs: The number of output that the new tensor should be.\n",
    "    : return: A 2-D tensor where the second dimension is num_outputs.\n",
    "    \"\"\"\n",
    "    x_shape = x_tensor.get_shape().as_list()\n",
    "    x_shape = x_shape[1:]\n",
    "    \n",
    "    x_shape = [*x_shape, num_outputs]\n",
    "\n",
    "    a_good_standard_deviation = 0.1\n",
    "    zero_mean = 0\n",
    "    weights = tf.Variable(tf.truncated_normal(x_shape, zero_mean, a_good_standard_deviation))\n",
    "    \n",
    "    bias = tf.Variable(tf.zeros(num_outputs))\n",
    "    \n",
    "    return tf.add(tf.matmul(x_tensor, weights), bias)\n",
    "\n",
    "\"\"\"\n",
    "DON'T MODIFY ANYTHING IN THIS CELL THAT IS BELOW THIS LINE\n",
    "\"\"\"\n",
    "tests.test_output(output)"
   ]
  },
  {
   "cell_type": "markdown",
   "metadata": {},
   "source": [
    "### Create Convolutional Model\n",
    "Implement the function `conv_net` to create a convolutional neural network model. The function takes in a batch of images, `x`, and outputs logits.  Use the layers you created above to create this model:\n",
    "\n",
    "* Apply 1, 2, or 3 Convolution and Max Pool layers\n",
    "* Apply a Flatten Layer\n",
    "* Apply 1, 2, or 3 Fully Connected Layers\n",
    "* Apply an Output Layer\n",
    "* Return the output\n",
    "* Apply [TensorFlow's Dropout](https://www.tensorflow.org/api_docs/python/tf/nn/dropout) to one or more layers in the model using `keep_prob`. "
   ]
  },
  {
   "cell_type": "code",
   "execution_count": 320,
   "metadata": {},
   "outputs": [
    {
     "name": "stdout",
     "output_type": "stream",
     "text": [
      "Neural Network Built!\n"
     ]
    }
   ],
   "source": [
    "def conv_net(x, keep_prob):\n",
    "    \"\"\"\n",
    "    Create a convolutional neural network model\n",
    "    : x: Placeholder tensor that holds image data.\n",
    "    : keep_prob: Placeholder tensor that hold dropout keep probability.\n",
    "    : return: Tensor that represents logits\n",
    "    \"\"\"\n",
    "    # TODO: Apply 1, 2, or 3 Convolution and Max Pool layers\n",
    "    #    Play around with different number of outputs, kernel size and stride\n",
    "    # Function Definition from Above:\n",
    "    #    conv2d_maxpool(x_tensor, conv_num_outputs, conv_ksize, conv_strides, pool_ksize, pool_strides)\n",
    "    network = conv2d_maxpool(x, \n",
    "                             conv_num_outputs=18, \n",
    "                             conv_ksize=(4, 4), \n",
    "                             conv_strides=(1, 1), \n",
    "                             pool_ksize=(8, 8), \n",
    "                             pool_strides=(1, 1))\n",
    "\n",
    "    # TODO: Apply a Flatten Layer\n",
    "    # Function Definition from Above:\n",
    "    #   flatten(x_tensor)\n",
    "    network = flatten(network)\n",
    "    \n",
    "    # TODO: Apply 1, 2, or 3 Fully Connected Layers\n",
    "    #    Play around with different number of outputs\n",
    "    # Function Definition from Above:\n",
    "    #   fully_conn(x_tensor, num_outputs)\n",
    "    network = fully_conn(network, 100)\n",
    "    \n",
    "    # TODO: Apply an Output Layer\n",
    "    #    Set this to the number of classes\n",
    "    # Function Definition from Above:\n",
    "    #   output(x_tensor, num_outputs)\n",
    "    network = output(network, 10)\n",
    "    \n",
    "    # TODO: return output\n",
    "    return network\n",
    "\n",
    "\"\"\"\n",
    "DON'T MODIFY ANYTHING IN THIS CELL THAT IS BELOW THIS LINE\n",
    "\"\"\"\n",
    "\n",
    "##############################\n",
    "## Build the Neural Network ##\n",
    "##############################\n",
    "\n",
    "# Remove previous weights, bias, inputs, etc..\n",
    "tf.reset_default_graph()\n",
    "\n",
    "# Inputs\n",
    "x = neural_net_image_input((32, 32, 3))\n",
    "y = neural_net_label_input(10)\n",
    "keep_prob = neural_net_keep_prob_input()\n",
    "\n",
    "# Model\n",
    "logits = conv_net(x, keep_prob)\n",
    "\n",
    "# Name logits Tensor, so that is can be loaded from disk after training\n",
    "logits = tf.identity(logits, name='logits')\n",
    "\n",
    "# Loss and Optimizer\n",
    "cost = tf.reduce_mean(tf.nn.softmax_cross_entropy_with_logits(logits=logits, labels=y))\n",
    "optimizer = tf.train.AdamOptimizer().minimize(cost)\n",
    "\n",
    "# Accuracy\n",
    "correct_pred = tf.equal(tf.argmax(logits, 1), tf.argmax(y, 1))\n",
    "accuracy = tf.reduce_mean(tf.cast(correct_pred, tf.float32), name='accuracy')\n",
    "\n",
    "tests.test_conv_net(conv_net)"
   ]
  },
  {
   "cell_type": "markdown",
   "metadata": {},
   "source": [
    "## Train the Neural Network\n",
    "### Single Optimization\n",
    "Implement the function `train_neural_network` to do a single optimization.  The optimization should use `optimizer` to optimize in `session` with a `feed_dict` of the following:\n",
    "* `x` for image input\n",
    "* `y` for labels\n",
    "* `keep_prob` for keep probability for dropout\n",
    "\n",
    "This function will be called for each batch, so `tf.global_variables_initializer()` has already been called.\n",
    "\n",
    "Note: Nothing needs to be returned. This function is only optimizing the neural network."
   ]
  },
  {
   "cell_type": "code",
   "execution_count": 321,
   "metadata": {},
   "outputs": [
    {
     "name": "stdout",
     "output_type": "stream",
     "text": [
      "Tests Passed\n"
     ]
    }
   ],
   "source": [
    "def train_neural_network(session, optimizer, keep_probability, feature_batch, label_batch):\n",
    "    \"\"\"\n",
    "    Optimize the session on a batch of images and labels\n",
    "    : session: Current TensorFlow session\n",
    "    : optimizer: TensorFlow optimizer function\n",
    "    : keep_probability: keep probability\n",
    "    : feature_batch: Batch of Numpy image data\n",
    "    : label_batch: Batch of Numpy label data\n",
    "    \"\"\"\n",
    "    session.run(optimizer, feed_dict={x:feature_batch, y:label_batch, keep_prob:keep_probability})\n",
    "\n",
    "\"\"\"\n",
    "DON'T MODIFY ANYTHING IN THIS CELL THAT IS BELOW THIS LINE\n",
    "\"\"\"\n",
    "tests.test_train_nn(train_neural_network)"
   ]
  },
  {
   "cell_type": "markdown",
   "metadata": {},
   "source": [
    "### Show Stats\n",
    "Implement the function `print_stats` to print loss and validation accuracy.  Use the global variables `valid_features` and `valid_labels` to calculate validation accuracy.  Use a keep probability of `1.0` to calculate the loss and validation accuracy."
   ]
  },
  {
   "cell_type": "code",
   "execution_count": 322,
   "metadata": {
    "collapsed": true
   },
   "outputs": [],
   "source": [
    "def print_stats(session, feature_batch, label_batch, cost, accuracy):\n",
    "    \"\"\"\n",
    "    Print information about loss and validation accuracy\n",
    "    : session: Current TensorFlow session\n",
    "    : feature_batch: Batch of Numpy image data\n",
    "    : label_batch: Batch of Numpy label data\n",
    "    : cost: TensorFlow cost function\n",
    "    : accuracy: TensorFlow accuracy function\n",
    "    \"\"\"\n",
    "    loss = session.run(cost, feed_dict={x:feature_batch, y:label_batch, keep_prob:1.0})\n",
    "    \n",
    "    valid_acc = sess.run(accuracy, feed_dict={x: valid_features, y: valid_labels, keep_prob: 1.})\n",
    "    \n",
    "    print('Loss: {:>10.4f} Validation Accuracy: {:.6f}'.format(loss, valid_acc))"
   ]
  },
  {
   "cell_type": "markdown",
   "metadata": {},
   "source": [
    "### Hyperparameters\n",
    "Tune the following parameters:\n",
    "* Set `epochs` to the number of iterations until the network stops learning or start overfitting\n",
    "* Set `batch_size` to the highest number that your machine has memory for.  Most people set them to common sizes of memory:\n",
    " * 64\n",
    " * 128\n",
    " * 256\n",
    " * ...\n",
    "* Set `keep_probability` to the probability of keeping a node using dropout"
   ]
  },
  {
   "cell_type": "code",
   "execution_count": 323,
   "metadata": {
    "collapsed": true
   },
   "outputs": [],
   "source": [
    "# TODO: Tune Parameters\n",
    "epochs = 50\n",
    "batch_size = 512\n",
    "keep_probability = 0.3"
   ]
  },
  {
   "cell_type": "markdown",
   "metadata": {},
   "source": [
    "### Train on a Single CIFAR-10 Batch\n",
    "Instead of training the neural network on all the CIFAR-10 batches of data, let's use a single batch. This should save time while you iterate on the model to get a better accuracy.  Once the final validation accuracy is 50% or greater, run the model on all the data in the next section."
   ]
  },
  {
   "cell_type": "code",
   "execution_count": 324,
   "metadata": {},
   "outputs": [
    {
     "name": "stdout",
     "output_type": "stream",
     "text": [
      "Checking the Training on a Single Batch...\n",
      "Epoch  1, CIFAR-10 Batch 1:  Loss:     2.2049 Validation Accuracy: 0.193800\n",
      "Epoch  2, CIFAR-10 Batch 1:  Loss:     2.0344 Validation Accuracy: 0.278800\n",
      "Epoch  3, CIFAR-10 Batch 1:  Loss:     1.8426 Validation Accuracy: 0.339000\n",
      "Epoch  4, CIFAR-10 Batch 1:  Loss:     1.7330 Validation Accuracy: 0.399200\n",
      "Epoch  5, CIFAR-10 Batch 1:  Loss:     1.6455 Validation Accuracy: 0.434800\n",
      "Epoch  6, CIFAR-10 Batch 1:  Loss:     1.5598 Validation Accuracy: 0.466600\n",
      "Epoch  7, CIFAR-10 Batch 1:  Loss:     1.4906 Validation Accuracy: 0.481400\n",
      "Epoch  8, CIFAR-10 Batch 1:  Loss:     1.4348 Validation Accuracy: 0.492000\n",
      "Epoch  9, CIFAR-10 Batch 1:  Loss:     1.3877 Validation Accuracy: 0.504200\n",
      "Epoch 10, CIFAR-10 Batch 1:  Loss:     1.3466 Validation Accuracy: 0.514000\n",
      "Epoch 11, CIFAR-10 Batch 1:  Loss:     1.3074 Validation Accuracy: 0.522000\n",
      "Epoch 12, CIFAR-10 Batch 1:  Loss:     1.2731 Validation Accuracy: 0.525200\n",
      "Epoch 13, CIFAR-10 Batch 1:  Loss:     1.2424 Validation Accuracy: 0.530600\n",
      "Epoch 14, CIFAR-10 Batch 1:  Loss:     1.2121 Validation Accuracy: 0.535600\n",
      "Epoch 15, CIFAR-10 Batch 1:  Loss:     1.1822 Validation Accuracy: 0.541400\n",
      "Epoch 16, CIFAR-10 Batch 1:  Loss:     1.1521 Validation Accuracy: 0.548600\n",
      "Epoch 17, CIFAR-10 Batch 1:  Loss:     1.1227 Validation Accuracy: 0.553400\n",
      "Epoch 18, CIFAR-10 Batch 1:  Loss:     1.0979 Validation Accuracy: 0.555600\n",
      "Epoch 19, CIFAR-10 Batch 1:  Loss:     1.0730 Validation Accuracy: 0.561200\n",
      "Epoch 20, CIFAR-10 Batch 1:  Loss:     1.0493 Validation Accuracy: 0.566200\n",
      "Epoch 21, CIFAR-10 Batch 1:  Loss:     1.0259 Validation Accuracy: 0.568200\n",
      "Epoch 22, CIFAR-10 Batch 1:  Loss:     1.0043 Validation Accuracy: 0.573600\n",
      "Epoch 23, CIFAR-10 Batch 1:  Loss:     0.9818 Validation Accuracy: 0.575800\n",
      "Epoch 24, CIFAR-10 Batch 1:  Loss:     0.9617 Validation Accuracy: 0.576400\n",
      "Epoch 25, CIFAR-10 Batch 1:  Loss:     0.9425 Validation Accuracy: 0.579200\n",
      "Epoch 26, CIFAR-10 Batch 1:  Loss:     0.9232 Validation Accuracy: 0.581800\n",
      "Epoch 27, CIFAR-10 Batch 1:  Loss:     0.9045 Validation Accuracy: 0.583000\n",
      "Epoch 28, CIFAR-10 Batch 1:  Loss:     0.8879 Validation Accuracy: 0.584000\n",
      "Epoch 29, CIFAR-10 Batch 1:  Loss:     0.8703 Validation Accuracy: 0.583000\n",
      "Epoch 30, CIFAR-10 Batch 1:  Loss:     0.8489 Validation Accuracy: 0.586400\n",
      "Epoch 31, CIFAR-10 Batch 1:  Loss:     0.8370 Validation Accuracy: 0.585200\n",
      "Epoch 32, CIFAR-10 Batch 1:  Loss:     0.8248 Validation Accuracy: 0.585000\n",
      "Epoch 33, CIFAR-10 Batch 1:  Loss:     0.8087 Validation Accuracy: 0.586400\n",
      "Epoch 34, CIFAR-10 Batch 1:  Loss:     0.7933 Validation Accuracy: 0.588400\n",
      "Epoch 35, CIFAR-10 Batch 1:  Loss:     0.7798 Validation Accuracy: 0.587800\n",
      "Epoch 36, CIFAR-10 Batch 1:  Loss:     0.7668 Validation Accuracy: 0.587800\n",
      "Epoch 37, CIFAR-10 Batch 1:  Loss:     0.7495 Validation Accuracy: 0.590800\n",
      "Epoch 38, CIFAR-10 Batch 1:  Loss:     0.7321 Validation Accuracy: 0.592200\n",
      "Epoch 39, CIFAR-10 Batch 1:  Loss:     0.7145 Validation Accuracy: 0.594400\n",
      "Epoch 40, CIFAR-10 Batch 1:  Loss:     0.6973 Validation Accuracy: 0.596200\n",
      "Epoch 41, CIFAR-10 Batch 1:  Loss:     0.6825 Validation Accuracy: 0.594600\n",
      "Epoch 42, CIFAR-10 Batch 1:  Loss:     0.6672 Validation Accuracy: 0.594800\n",
      "Epoch 43, CIFAR-10 Batch 1:  Loss:     0.6501 Validation Accuracy: 0.596600\n",
      "Epoch 44, CIFAR-10 Batch 1:  Loss:     0.6358 Validation Accuracy: 0.598400\n",
      "Epoch 45, CIFAR-10 Batch 1:  Loss:     0.6216 Validation Accuracy: 0.597400\n",
      "Epoch 46, CIFAR-10 Batch 1:  Loss:     0.6092 Validation Accuracy: 0.599200\n",
      "Epoch 47, CIFAR-10 Batch 1:  Loss:     0.5943 Validation Accuracy: 0.602000\n",
      "Epoch 48, CIFAR-10 Batch 1:  Loss:     0.5832 Validation Accuracy: 0.601800\n",
      "Epoch 49, CIFAR-10 Batch 1:  Loss:     0.5669 Validation Accuracy: 0.599200\n",
      "Epoch 50, CIFAR-10 Batch 1:  Loss:     0.5591 Validation Accuracy: 0.600200\n"
     ]
    }
   ],
   "source": [
    "\"\"\"\n",
    "DON'T MODIFY ANYTHING IN THIS CELL\n",
    "\"\"\"\n",
    "print('Checking the Training on a Single Batch...')\n",
    "with tf.Session() as sess:\n",
    "    # Initializing the variables\n",
    "    sess.run(tf.global_variables_initializer())\n",
    "    \n",
    "    # Training cycle\n",
    "    for epoch in range(epochs):\n",
    "        batch_i = 1\n",
    "        for batch_features, batch_labels in helper.load_preprocess_training_batch(batch_i, batch_size):\n",
    "            train_neural_network(sess, optimizer, keep_probability, batch_features, batch_labels)\n",
    "        print('Epoch {:>2}, CIFAR-10 Batch {}:  '.format(epoch + 1, batch_i), end='')\n",
    "        print_stats(sess, batch_features, batch_labels, cost, accuracy)"
   ]
  },
  {
   "cell_type": "markdown",
   "metadata": {},
   "source": [
    "### Fully Train the Model\n",
    "Now that you got a good accuracy with a single CIFAR-10 batch, try it with all five batches."
   ]
  },
  {
   "cell_type": "code",
   "execution_count": 325,
   "metadata": {},
   "outputs": [
    {
     "name": "stdout",
     "output_type": "stream",
     "text": [
      "Training...\n",
      "Epoch  1, CIFAR-10 Batch 1:  Loss:     2.4082 Validation Accuracy: 0.086800\n",
      "Epoch  1, CIFAR-10 Batch 2:  Loss:     2.2827 Validation Accuracy: 0.143200\n",
      "Epoch  1, CIFAR-10 Batch 3:  Loss:     2.2103 Validation Accuracy: 0.200200\n",
      "Epoch  1, CIFAR-10 Batch 4:  Loss:     2.1251 Validation Accuracy: 0.262000\n",
      "Epoch  1, CIFAR-10 Batch 5:  Loss:     1.9915 Validation Accuracy: 0.288400\n",
      "Epoch  2, CIFAR-10 Batch 1:  Loss:     1.8427 Validation Accuracy: 0.359200\n",
      "Epoch  2, CIFAR-10 Batch 2:  Loss:     1.6962 Validation Accuracy: 0.391600\n",
      "Epoch  2, CIFAR-10 Batch 3:  Loss:     1.5701 Validation Accuracy: 0.418400\n",
      "Epoch  2, CIFAR-10 Batch 4:  Loss:     1.4550 Validation Accuracy: 0.439800\n",
      "Epoch  2, CIFAR-10 Batch 5:  Loss:     1.5438 Validation Accuracy: 0.439000\n",
      "Epoch  3, CIFAR-10 Batch 1:  Loss:     1.5617 Validation Accuracy: 0.471800\n",
      "Epoch  3, CIFAR-10 Batch 2:  Loss:     1.4779 Validation Accuracy: 0.475200\n",
      "Epoch  3, CIFAR-10 Batch 3:  Loss:     1.3861 Validation Accuracy: 0.469800\n",
      "Epoch  3, CIFAR-10 Batch 4:  Loss:     1.2993 Validation Accuracy: 0.493600\n",
      "Epoch  3, CIFAR-10 Batch 5:  Loss:     1.4176 Validation Accuracy: 0.492600\n",
      "Epoch  4, CIFAR-10 Batch 1:  Loss:     1.4292 Validation Accuracy: 0.511200\n",
      "Epoch  4, CIFAR-10 Batch 2:  Loss:     1.3742 Validation Accuracy: 0.510200\n",
      "Epoch  4, CIFAR-10 Batch 3:  Loss:     1.2677 Validation Accuracy: 0.511400\n",
      "Epoch  4, CIFAR-10 Batch 4:  Loss:     1.1978 Validation Accuracy: 0.527200\n",
      "Epoch  4, CIFAR-10 Batch 5:  Loss:     1.3191 Validation Accuracy: 0.518200\n",
      "Epoch  5, CIFAR-10 Batch 1:  Loss:     1.3381 Validation Accuracy: 0.535600\n",
      "Epoch  5, CIFAR-10 Batch 2:  Loss:     1.3138 Validation Accuracy: 0.523600\n",
      "Epoch  5, CIFAR-10 Batch 3:  Loss:     1.1934 Validation Accuracy: 0.538800\n",
      "Epoch  5, CIFAR-10 Batch 4:  Loss:     1.1359 Validation Accuracy: 0.545600\n",
      "Epoch  5, CIFAR-10 Batch 5:  Loss:     1.2485 Validation Accuracy: 0.545000\n",
      "Epoch  6, CIFAR-10 Batch 1:  Loss:     1.2663 Validation Accuracy: 0.556200\n",
      "Epoch  6, CIFAR-10 Batch 2:  Loss:     1.2624 Validation Accuracy: 0.534400\n",
      "Epoch  6, CIFAR-10 Batch 3:  Loss:     1.1508 Validation Accuracy: 0.553400\n",
      "Epoch  6, CIFAR-10 Batch 4:  Loss:     1.0929 Validation Accuracy: 0.553800\n",
      "Epoch  6, CIFAR-10 Batch 5:  Loss:     1.1904 Validation Accuracy: 0.566400\n",
      "Epoch  7, CIFAR-10 Batch 1:  Loss:     1.2174 Validation Accuracy: 0.574000\n",
      "Epoch  7, CIFAR-10 Batch 2:  Loss:     1.2159 Validation Accuracy: 0.546800\n",
      "Epoch  7, CIFAR-10 Batch 3:  Loss:     1.1267 Validation Accuracy: 0.561600\n",
      "Epoch  7, CIFAR-10 Batch 4:  Loss:     1.0611 Validation Accuracy: 0.569000\n",
      "Epoch  7, CIFAR-10 Batch 5:  Loss:     1.1449 Validation Accuracy: 0.583200\n",
      "Epoch  8, CIFAR-10 Batch 1:  Loss:     1.1777 Validation Accuracy: 0.586800\n",
      "Epoch  8, CIFAR-10 Batch 2:  Loss:     1.1655 Validation Accuracy: 0.568800\n",
      "Epoch  8, CIFAR-10 Batch 3:  Loss:     1.0980 Validation Accuracy: 0.569200\n",
      "Epoch  8, CIFAR-10 Batch 4:  Loss:     1.0326 Validation Accuracy: 0.588000\n",
      "Epoch  8, CIFAR-10 Batch 5:  Loss:     1.1023 Validation Accuracy: 0.595400\n",
      "Epoch  9, CIFAR-10 Batch 1:  Loss:     1.1410 Validation Accuracy: 0.595800\n",
      "Epoch  9, CIFAR-10 Batch 2:  Loss:     1.1159 Validation Accuracy: 0.579400\n",
      "Epoch  9, CIFAR-10 Batch 3:  Loss:     1.0643 Validation Accuracy: 0.581400\n",
      "Epoch  9, CIFAR-10 Batch 4:  Loss:     1.0179 Validation Accuracy: 0.594000\n",
      "Epoch  9, CIFAR-10 Batch 5:  Loss:     1.0655 Validation Accuracy: 0.603000\n",
      "Epoch 10, CIFAR-10 Batch 1:  Loss:     1.1108 Validation Accuracy: 0.599800\n",
      "Epoch 10, CIFAR-10 Batch 2:  Loss:     1.0800 Validation Accuracy: 0.589000\n",
      "Epoch 10, CIFAR-10 Batch 3:  Loss:     1.0274 Validation Accuracy: 0.588600\n",
      "Epoch 10, CIFAR-10 Batch 4:  Loss:     1.0065 Validation Accuracy: 0.594000\n",
      "Epoch 10, CIFAR-10 Batch 5:  Loss:     1.0344 Validation Accuracy: 0.608000\n",
      "Epoch 11, CIFAR-10 Batch 1:  Loss:     1.0856 Validation Accuracy: 0.605800\n",
      "Epoch 11, CIFAR-10 Batch 2:  Loss:     1.0474 Validation Accuracy: 0.591600\n",
      "Epoch 11, CIFAR-10 Batch 3:  Loss:     0.9932 Validation Accuracy: 0.601000\n",
      "Epoch 11, CIFAR-10 Batch 4:  Loss:     0.9919 Validation Accuracy: 0.601200\n",
      "Epoch 11, CIFAR-10 Batch 5:  Loss:     1.0076 Validation Accuracy: 0.613800\n",
      "Epoch 12, CIFAR-10 Batch 1:  Loss:     1.0618 Validation Accuracy: 0.611000\n",
      "Epoch 12, CIFAR-10 Batch 2:  Loss:     1.0211 Validation Accuracy: 0.598000\n",
      "Epoch 12, CIFAR-10 Batch 3:  Loss:     0.9653 Validation Accuracy: 0.609200\n",
      "Epoch 12, CIFAR-10 Batch 4:  Loss:     0.9769 Validation Accuracy: 0.603600\n",
      "Epoch 12, CIFAR-10 Batch 5:  Loss:     0.9860 Validation Accuracy: 0.615400\n",
      "Epoch 13, CIFAR-10 Batch 1:  Loss:     1.0405 Validation Accuracy: 0.617800\n",
      "Epoch 13, CIFAR-10 Batch 2:  Loss:     0.9980 Validation Accuracy: 0.600200\n",
      "Epoch 13, CIFAR-10 Batch 3:  Loss:     0.9392 Validation Accuracy: 0.615000\n",
      "Epoch 13, CIFAR-10 Batch 4:  Loss:     0.9532 Validation Accuracy: 0.614200\n",
      "Epoch 13, CIFAR-10 Batch 5:  Loss:     0.9663 Validation Accuracy: 0.618200\n",
      "Epoch 14, CIFAR-10 Batch 1:  Loss:     1.0213 Validation Accuracy: 0.623800\n",
      "Epoch 14, CIFAR-10 Batch 2:  Loss:     0.9742 Validation Accuracy: 0.603600\n",
      "Epoch 14, CIFAR-10 Batch 3:  Loss:     0.9199 Validation Accuracy: 0.616000\n",
      "Epoch 14, CIFAR-10 Batch 4:  Loss:     0.9353 Validation Accuracy: 0.619200\n",
      "Epoch 14, CIFAR-10 Batch 5:  Loss:     0.9475 Validation Accuracy: 0.621600\n",
      "Epoch 15, CIFAR-10 Batch 1:  Loss:     1.0031 Validation Accuracy: 0.627600\n",
      "Epoch 15, CIFAR-10 Batch 2:  Loss:     0.9604 Validation Accuracy: 0.606200\n",
      "Epoch 15, CIFAR-10 Batch 3:  Loss:     0.9051 Validation Accuracy: 0.621800\n",
      "Epoch 15, CIFAR-10 Batch 4:  Loss:     0.9148 Validation Accuracy: 0.622800\n",
      "Epoch 15, CIFAR-10 Batch 5:  Loss:     0.9315 Validation Accuracy: 0.625400\n",
      "Epoch 16, CIFAR-10 Batch 1:  Loss:     0.9884 Validation Accuracy: 0.628800\n",
      "Epoch 16, CIFAR-10 Batch 2:  Loss:     0.9476 Validation Accuracy: 0.607600\n",
      "Epoch 16, CIFAR-10 Batch 3:  Loss:     0.8929 Validation Accuracy: 0.622600\n",
      "Epoch 16, CIFAR-10 Batch 4:  Loss:     0.8954 Validation Accuracy: 0.626400\n",
      "Epoch 16, CIFAR-10 Batch 5:  Loss:     0.9174 Validation Accuracy: 0.628200\n",
      "Epoch 17, CIFAR-10 Batch 1:  Loss:     0.9752 Validation Accuracy: 0.630800\n",
      "Epoch 17, CIFAR-10 Batch 2:  Loss:     0.9403 Validation Accuracy: 0.607800\n",
      "Epoch 17, CIFAR-10 Batch 3:  Loss:     0.8803 Validation Accuracy: 0.625000\n",
      "Epoch 17, CIFAR-10 Batch 4:  Loss:     0.8766 Validation Accuracy: 0.627400\n",
      "Epoch 17, CIFAR-10 Batch 5:  Loss:     0.9036 Validation Accuracy: 0.632000\n",
      "Epoch 18, CIFAR-10 Batch 1:  Loss:     0.9627 Validation Accuracy: 0.631600\n",
      "Epoch 18, CIFAR-10 Batch 2:  Loss:     0.9330 Validation Accuracy: 0.611000\n",
      "Epoch 18, CIFAR-10 Batch 3:  Loss:     0.8699 Validation Accuracy: 0.624800\n",
      "Epoch 18, CIFAR-10 Batch 4:  Loss:     0.8578 Validation Accuracy: 0.631000\n",
      "Epoch 18, CIFAR-10 Batch 5:  Loss:     0.8920 Validation Accuracy: 0.632400\n",
      "Epoch 19, CIFAR-10 Batch 1:  Loss:     0.9513 Validation Accuracy: 0.633200\n",
      "Epoch 19, CIFAR-10 Batch 2:  Loss:     0.9272 Validation Accuracy: 0.609600\n",
      "Epoch 19, CIFAR-10 Batch 3:  Loss:     0.8572 Validation Accuracy: 0.623600\n",
      "Epoch 19, CIFAR-10 Batch 4:  Loss:     0.8417 Validation Accuracy: 0.634000\n",
      "Epoch 19, CIFAR-10 Batch 5:  Loss:     0.8806 Validation Accuracy: 0.634000\n",
      "Epoch 20, CIFAR-10 Batch 1:  Loss:     0.9404 Validation Accuracy: 0.636600\n",
      "Epoch 20, CIFAR-10 Batch 2:  Loss:     0.9181 Validation Accuracy: 0.611800\n",
      "Epoch 20, CIFAR-10 Batch 3:  Loss:     0.8463 Validation Accuracy: 0.624200\n",
      "Epoch 20, CIFAR-10 Batch 4:  Loss:     0.8272 Validation Accuracy: 0.638200\n",
      "Epoch 20, CIFAR-10 Batch 5:  Loss:     0.8702 Validation Accuracy: 0.634000\n",
      "Epoch 21, CIFAR-10 Batch 1:  Loss:     0.9323 Validation Accuracy: 0.637200\n",
      "Epoch 21, CIFAR-10 Batch 2:  Loss:     0.9046 Validation Accuracy: 0.614400\n",
      "Epoch 21, CIFAR-10 Batch 3:  Loss:     0.8391 Validation Accuracy: 0.622400\n",
      "Epoch 21, CIFAR-10 Batch 4:  Loss:     0.8192 Validation Accuracy: 0.638000\n",
      "Epoch 21, CIFAR-10 Batch 5:  Loss:     0.8538 Validation Accuracy: 0.634800\n",
      "Epoch 22, CIFAR-10 Batch 1:  Loss:     0.9246 Validation Accuracy: 0.638200\n",
      "Epoch 22, CIFAR-10 Batch 2:  Loss:     0.8839 Validation Accuracy: 0.616600\n",
      "Epoch 22, CIFAR-10 Batch 3:  Loss:     0.8332 Validation Accuracy: 0.617600\n"
     ]
    },
    {
     "name": "stdout",
     "output_type": "stream",
     "text": [
      "Epoch 22, CIFAR-10 Batch 4:  Loss:     0.8188 Validation Accuracy: 0.632000\n",
      "Epoch 22, CIFAR-10 Batch 5:  Loss:     0.8357 Validation Accuracy: 0.641000\n",
      "Epoch 23, CIFAR-10 Batch 1:  Loss:     0.9151 Validation Accuracy: 0.635600\n",
      "Epoch 23, CIFAR-10 Batch 2:  Loss:     0.8590 Validation Accuracy: 0.622200\n",
      "Epoch 23, CIFAR-10 Batch 3:  Loss:     0.8263 Validation Accuracy: 0.618600\n",
      "Epoch 23, CIFAR-10 Batch 4:  Loss:     0.8200 Validation Accuracy: 0.625600\n",
      "Epoch 23, CIFAR-10 Batch 5:  Loss:     0.8126 Validation Accuracy: 0.643000\n",
      "Epoch 24, CIFAR-10 Batch 1:  Loss:     0.9073 Validation Accuracy: 0.639000\n",
      "Epoch 24, CIFAR-10 Batch 2:  Loss:     0.8484 Validation Accuracy: 0.623400\n",
      "Epoch 24, CIFAR-10 Batch 3:  Loss:     0.8060 Validation Accuracy: 0.622000\n",
      "Epoch 24, CIFAR-10 Batch 4:  Loss:     0.7959 Validation Accuracy: 0.637200\n",
      "Epoch 24, CIFAR-10 Batch 5:  Loss:     0.7982 Validation Accuracy: 0.643600\n",
      "Epoch 25, CIFAR-10 Batch 1:  Loss:     0.9013 Validation Accuracy: 0.644800\n",
      "Epoch 25, CIFAR-10 Batch 2:  Loss:     0.8460 Validation Accuracy: 0.619400\n",
      "Epoch 25, CIFAR-10 Batch 3:  Loss:     0.7953 Validation Accuracy: 0.622200\n",
      "Epoch 25, CIFAR-10 Batch 4:  Loss:     0.7725 Validation Accuracy: 0.644600\n",
      "Epoch 25, CIFAR-10 Batch 5:  Loss:     0.7859 Validation Accuracy: 0.645200\n",
      "Epoch 26, CIFAR-10 Batch 1:  Loss:     0.8950 Validation Accuracy: 0.646800\n",
      "Epoch 26, CIFAR-10 Batch 2:  Loss:     0.8408 Validation Accuracy: 0.619600\n",
      "Epoch 26, CIFAR-10 Batch 3:  Loss:     0.7852 Validation Accuracy: 0.623400\n",
      "Epoch 26, CIFAR-10 Batch 4:  Loss:     0.7577 Validation Accuracy: 0.647000\n",
      "Epoch 26, CIFAR-10 Batch 5:  Loss:     0.7748 Validation Accuracy: 0.646400\n",
      "Epoch 27, CIFAR-10 Batch 1:  Loss:     0.8863 Validation Accuracy: 0.648200\n",
      "Epoch 27, CIFAR-10 Batch 2:  Loss:     0.8330 Validation Accuracy: 0.621000\n",
      "Epoch 27, CIFAR-10 Batch 3:  Loss:     0.7730 Validation Accuracy: 0.626200\n",
      "Epoch 27, CIFAR-10 Batch 4:  Loss:     0.7497 Validation Accuracy: 0.648200\n",
      "Epoch 27, CIFAR-10 Batch 5:  Loss:     0.7652 Validation Accuracy: 0.644800\n",
      "Epoch 28, CIFAR-10 Batch 1:  Loss:     0.8779 Validation Accuracy: 0.648800\n",
      "Epoch 28, CIFAR-10 Batch 2:  Loss:     0.8269 Validation Accuracy: 0.622800\n",
      "Epoch 28, CIFAR-10 Batch 3:  Loss:     0.7612 Validation Accuracy: 0.630800\n",
      "Epoch 28, CIFAR-10 Batch 4:  Loss:     0.7400 Validation Accuracy: 0.647600\n",
      "Epoch 28, CIFAR-10 Batch 5:  Loss:     0.7541 Validation Accuracy: 0.648600\n",
      "Epoch 29, CIFAR-10 Batch 1:  Loss:     0.8682 Validation Accuracy: 0.649400\n",
      "Epoch 29, CIFAR-10 Batch 2:  Loss:     0.8172 Validation Accuracy: 0.622200\n",
      "Epoch 29, CIFAR-10 Batch 3:  Loss:     0.7492 Validation Accuracy: 0.634400\n",
      "Epoch 29, CIFAR-10 Batch 4:  Loss:     0.7320 Validation Accuracy: 0.647200\n",
      "Epoch 29, CIFAR-10 Batch 5:  Loss:     0.7452 Validation Accuracy: 0.648400\n",
      "Epoch 30, CIFAR-10 Batch 1:  Loss:     0.8604 Validation Accuracy: 0.650600\n",
      "Epoch 30, CIFAR-10 Batch 2:  Loss:     0.8097 Validation Accuracy: 0.625400\n",
      "Epoch 30, CIFAR-10 Batch 3:  Loss:     0.7339 Validation Accuracy: 0.638400\n",
      "Epoch 30, CIFAR-10 Batch 4:  Loss:     0.7231 Validation Accuracy: 0.647800\n",
      "Epoch 30, CIFAR-10 Batch 5:  Loss:     0.7361 Validation Accuracy: 0.649600\n",
      "Epoch 31, CIFAR-10 Batch 1:  Loss:     0.8537 Validation Accuracy: 0.649200\n",
      "Epoch 31, CIFAR-10 Batch 2:  Loss:     0.8002 Validation Accuracy: 0.626200\n",
      "Epoch 31, CIFAR-10 Batch 3:  Loss:     0.7247 Validation Accuracy: 0.637000\n",
      "Epoch 31, CIFAR-10 Batch 4:  Loss:     0.7133 Validation Accuracy: 0.649400\n",
      "Epoch 31, CIFAR-10 Batch 5:  Loss:     0.7299 Validation Accuracy: 0.651200\n",
      "Epoch 32, CIFAR-10 Batch 1:  Loss:     0.8454 Validation Accuracy: 0.650400\n",
      "Epoch 32, CIFAR-10 Batch 2:  Loss:     0.7933 Validation Accuracy: 0.627800\n",
      "Epoch 32, CIFAR-10 Batch 3:  Loss:     0.7151 Validation Accuracy: 0.639200\n",
      "Epoch 32, CIFAR-10 Batch 4:  Loss:     0.7044 Validation Accuracy: 0.651000\n",
      "Epoch 32, CIFAR-10 Batch 5:  Loss:     0.7239 Validation Accuracy: 0.651200\n",
      "Epoch 33, CIFAR-10 Batch 1:  Loss:     0.8368 Validation Accuracy: 0.650600\n",
      "Epoch 33, CIFAR-10 Batch 2:  Loss:     0.7841 Validation Accuracy: 0.628800\n",
      "Epoch 33, CIFAR-10 Batch 3:  Loss:     0.7059 Validation Accuracy: 0.642000\n",
      "Epoch 33, CIFAR-10 Batch 4:  Loss:     0.6951 Validation Accuracy: 0.651200\n",
      "Epoch 33, CIFAR-10 Batch 5:  Loss:     0.7166 Validation Accuracy: 0.652200\n",
      "Epoch 34, CIFAR-10 Batch 1:  Loss:     0.8307 Validation Accuracy: 0.652000\n",
      "Epoch 34, CIFAR-10 Batch 2:  Loss:     0.7790 Validation Accuracy: 0.630600\n",
      "Epoch 34, CIFAR-10 Batch 3:  Loss:     0.6997 Validation Accuracy: 0.640600\n",
      "Epoch 34, CIFAR-10 Batch 4:  Loss:     0.6855 Validation Accuracy: 0.655600\n",
      "Epoch 34, CIFAR-10 Batch 5:  Loss:     0.7100 Validation Accuracy: 0.653000\n",
      "Epoch 35, CIFAR-10 Batch 1:  Loss:     0.8231 Validation Accuracy: 0.652400\n",
      "Epoch 35, CIFAR-10 Batch 2:  Loss:     0.7734 Validation Accuracy: 0.631600\n",
      "Epoch 35, CIFAR-10 Batch 3:  Loss:     0.6881 Validation Accuracy: 0.643400\n",
      "Epoch 35, CIFAR-10 Batch 4:  Loss:     0.6781 Validation Accuracy: 0.655000\n",
      "Epoch 35, CIFAR-10 Batch 5:  Loss:     0.7017 Validation Accuracy: 0.652800\n",
      "Epoch 36, CIFAR-10 Batch 1:  Loss:     0.8148 Validation Accuracy: 0.652400\n",
      "Epoch 36, CIFAR-10 Batch 2:  Loss:     0.7665 Validation Accuracy: 0.632600\n",
      "Epoch 36, CIFAR-10 Batch 3:  Loss:     0.6810 Validation Accuracy: 0.644200\n",
      "Epoch 36, CIFAR-10 Batch 4:  Loss:     0.6700 Validation Accuracy: 0.656800\n",
      "Epoch 36, CIFAR-10 Batch 5:  Loss:     0.6955 Validation Accuracy: 0.654200\n",
      "Epoch 37, CIFAR-10 Batch 1:  Loss:     0.8079 Validation Accuracy: 0.653400\n",
      "Epoch 37, CIFAR-10 Batch 2:  Loss:     0.7616 Validation Accuracy: 0.630600\n",
      "Epoch 37, CIFAR-10 Batch 3:  Loss:     0.6735 Validation Accuracy: 0.644200\n",
      "Epoch 37, CIFAR-10 Batch 4:  Loss:     0.6639 Validation Accuracy: 0.656200\n",
      "Epoch 37, CIFAR-10 Batch 5:  Loss:     0.6877 Validation Accuracy: 0.655600\n",
      "Epoch 38, CIFAR-10 Batch 1:  Loss:     0.7984 Validation Accuracy: 0.653600\n",
      "Epoch 38, CIFAR-10 Batch 2:  Loss:     0.7540 Validation Accuracy: 0.627800\n",
      "Epoch 38, CIFAR-10 Batch 3:  Loss:     0.6681 Validation Accuracy: 0.644600\n",
      "Epoch 38, CIFAR-10 Batch 4:  Loss:     0.6568 Validation Accuracy: 0.658400\n",
      "Epoch 38, CIFAR-10 Batch 5:  Loss:     0.6821 Validation Accuracy: 0.655800\n",
      "Epoch 39, CIFAR-10 Batch 1:  Loss:     0.7917 Validation Accuracy: 0.656000\n",
      "Epoch 39, CIFAR-10 Batch 2:  Loss:     0.7475 Validation Accuracy: 0.628400\n",
      "Epoch 39, CIFAR-10 Batch 3:  Loss:     0.6621 Validation Accuracy: 0.645400\n",
      "Epoch 39, CIFAR-10 Batch 4:  Loss:     0.6503 Validation Accuracy: 0.657200\n",
      "Epoch 39, CIFAR-10 Batch 5:  Loss:     0.6771 Validation Accuracy: 0.656400\n",
      "Epoch 40, CIFAR-10 Batch 1:  Loss:     0.7828 Validation Accuracy: 0.657200\n",
      "Epoch 40, CIFAR-10 Batch 2:  Loss:     0.7413 Validation Accuracy: 0.631600\n",
      "Epoch 40, CIFAR-10 Batch 3:  Loss:     0.6551 Validation Accuracy: 0.645800\n",
      "Epoch 40, CIFAR-10 Batch 4:  Loss:     0.6456 Validation Accuracy: 0.656200\n",
      "Epoch 40, CIFAR-10 Batch 5:  Loss:     0.6716 Validation Accuracy: 0.655600\n",
      "Epoch 41, CIFAR-10 Batch 1:  Loss:     0.7747 Validation Accuracy: 0.659400\n",
      "Epoch 41, CIFAR-10 Batch 2:  Loss:     0.7317 Validation Accuracy: 0.632200\n",
      "Epoch 41, CIFAR-10 Batch 3:  Loss:     0.6484 Validation Accuracy: 0.645400\n",
      "Epoch 41, CIFAR-10 Batch 4:  Loss:     0.6401 Validation Accuracy: 0.655200\n",
      "Epoch 41, CIFAR-10 Batch 5:  Loss:     0.6653 Validation Accuracy: 0.658200\n",
      "Epoch 42, CIFAR-10 Batch 1:  Loss:     0.7685 Validation Accuracy: 0.658200\n",
      "Epoch 42, CIFAR-10 Batch 2:  Loss:     0.7240 Validation Accuracy: 0.633200\n",
      "Epoch 42, CIFAR-10 Batch 3:  Loss:     0.6417 Validation Accuracy: 0.645800\n",
      "Epoch 42, CIFAR-10 Batch 4:  Loss:     0.6350 Validation Accuracy: 0.655800\n",
      "Epoch 42, CIFAR-10 Batch 5:  Loss:     0.6600 Validation Accuracy: 0.657400\n",
      "Epoch 43, CIFAR-10 Batch 1:  Loss:     0.7604 Validation Accuracy: 0.659000\n",
      "Epoch 43, CIFAR-10 Batch 2:  Loss:     0.7176 Validation Accuracy: 0.634600\n",
      "Epoch 43, CIFAR-10 Batch 3:  Loss:     0.6353 Validation Accuracy: 0.646000\n",
      "Epoch 43, CIFAR-10 Batch 4:  Loss:     0.6303 Validation Accuracy: 0.656400\n",
      "Epoch 43, CIFAR-10 Batch 5:  Loss:     0.6539 Validation Accuracy: 0.656200\n",
      "Epoch 44, CIFAR-10 Batch 1:  Loss:     0.7536 Validation Accuracy: 0.659000\n"
     ]
    },
    {
     "name": "stdout",
     "output_type": "stream",
     "text": [
      "Epoch 44, CIFAR-10 Batch 2:  Loss:     0.7116 Validation Accuracy: 0.635600\n",
      "Epoch 44, CIFAR-10 Batch 3:  Loss:     0.6281 Validation Accuracy: 0.647200\n",
      "Epoch 44, CIFAR-10 Batch 4:  Loss:     0.6258 Validation Accuracy: 0.656200\n",
      "Epoch 44, CIFAR-10 Batch 5:  Loss:     0.6474 Validation Accuracy: 0.656400\n",
      "Epoch 45, CIFAR-10 Batch 1:  Loss:     0.7465 Validation Accuracy: 0.659400\n",
      "Epoch 45, CIFAR-10 Batch 2:  Loss:     0.7061 Validation Accuracy: 0.634800\n",
      "Epoch 45, CIFAR-10 Batch 3:  Loss:     0.6202 Validation Accuracy: 0.650000\n",
      "Epoch 45, CIFAR-10 Batch 4:  Loss:     0.6215 Validation Accuracy: 0.654600\n",
      "Epoch 45, CIFAR-10 Batch 5:  Loss:     0.6422 Validation Accuracy: 0.656200\n",
      "Epoch 46, CIFAR-10 Batch 1:  Loss:     0.7419 Validation Accuracy: 0.660800\n",
      "Epoch 46, CIFAR-10 Batch 2:  Loss:     0.7016 Validation Accuracy: 0.636200\n",
      "Epoch 46, CIFAR-10 Batch 3:  Loss:     0.6158 Validation Accuracy: 0.649600\n",
      "Epoch 46, CIFAR-10 Batch 4:  Loss:     0.6176 Validation Accuracy: 0.654000\n",
      "Epoch 46, CIFAR-10 Batch 5:  Loss:     0.6382 Validation Accuracy: 0.655600\n",
      "Epoch 47, CIFAR-10 Batch 1:  Loss:     0.7348 Validation Accuracy: 0.659400\n",
      "Epoch 47, CIFAR-10 Batch 2:  Loss:     0.6965 Validation Accuracy: 0.635200\n",
      "Epoch 47, CIFAR-10 Batch 3:  Loss:     0.6117 Validation Accuracy: 0.650200\n",
      "Epoch 47, CIFAR-10 Batch 4:  Loss:     0.6147 Validation Accuracy: 0.652400\n",
      "Epoch 47, CIFAR-10 Batch 5:  Loss:     0.6327 Validation Accuracy: 0.654400\n",
      "Epoch 48, CIFAR-10 Batch 1:  Loss:     0.7306 Validation Accuracy: 0.658200\n",
      "Epoch 48, CIFAR-10 Batch 2:  Loss:     0.6907 Validation Accuracy: 0.636200\n",
      "Epoch 48, CIFAR-10 Batch 3:  Loss:     0.6061 Validation Accuracy: 0.651600\n",
      "Epoch 48, CIFAR-10 Batch 4:  Loss:     0.6097 Validation Accuracy: 0.652400\n",
      "Epoch 48, CIFAR-10 Batch 5:  Loss:     0.6277 Validation Accuracy: 0.656200\n",
      "Epoch 49, CIFAR-10 Batch 1:  Loss:     0.7253 Validation Accuracy: 0.657200\n",
      "Epoch 49, CIFAR-10 Batch 2:  Loss:     0.6864 Validation Accuracy: 0.637200\n",
      "Epoch 49, CIFAR-10 Batch 3:  Loss:     0.5980 Validation Accuracy: 0.653200\n",
      "Epoch 49, CIFAR-10 Batch 4:  Loss:     0.6045 Validation Accuracy: 0.653200\n",
      "Epoch 49, CIFAR-10 Batch 5:  Loss:     0.6225 Validation Accuracy: 0.655000\n",
      "Epoch 50, CIFAR-10 Batch 1:  Loss:     0.7207 Validation Accuracy: 0.656600\n",
      "Epoch 50, CIFAR-10 Batch 2:  Loss:     0.6811 Validation Accuracy: 0.638800\n",
      "Epoch 50, CIFAR-10 Batch 3:  Loss:     0.5915 Validation Accuracy: 0.654000\n",
      "Epoch 50, CIFAR-10 Batch 4:  Loss:     0.6005 Validation Accuracy: 0.654600\n",
      "Epoch 50, CIFAR-10 Batch 5:  Loss:     0.6180 Validation Accuracy: 0.654200\n"
     ]
    }
   ],
   "source": [
    "\"\"\"\n",
    "DON'T MODIFY ANYTHING IN THIS CELL\n",
    "\"\"\"\n",
    "save_model_path = './image_classification'\n",
    "\n",
    "print('Training...')\n",
    "with tf.Session() as sess:\n",
    "    # Initializing the variables\n",
    "    sess.run(tf.global_variables_initializer())\n",
    "    \n",
    "    # Training cycle\n",
    "    for epoch in range(epochs):\n",
    "        # Loop over all batches\n",
    "        n_batches = 5\n",
    "        for batch_i in range(1, n_batches + 1):\n",
    "            for batch_features, batch_labels in helper.load_preprocess_training_batch(batch_i, batch_size):\n",
    "                train_neural_network(sess, optimizer, keep_probability, batch_features, batch_labels)\n",
    "            print('Epoch {:>2}, CIFAR-10 Batch {}:  '.format(epoch + 1, batch_i), end='')\n",
    "            print_stats(sess, batch_features, batch_labels, cost, accuracy)\n",
    "            \n",
    "    # Save Model\n",
    "    saver = tf.train.Saver()\n",
    "    save_path = saver.save(sess, save_model_path)"
   ]
  },
  {
   "cell_type": "markdown",
   "metadata": {},
   "source": [
    "# Checkpoint\n",
    "The model has been saved to disk.\n",
    "## Test Model\n",
    "Test your model against the test dataset.  This will be your final accuracy. You should have an accuracy greater than 50%. If you don't, keep tweaking the model architecture and parameters."
   ]
  },
  {
   "cell_type": "code",
   "execution_count": 326,
   "metadata": {},
   "outputs": [
    {
     "name": "stdout",
     "output_type": "stream",
     "text": [
      "Testing Accuracy: 0.6450999528169632\n",
      "\n"
     ]
    },
    {
     "data": {
      "image/png": "[encoded data removed]",
      "text/plain": [
       "<matplotlib.figure.Figure at 0x1218a8780>"
      ]
     },
     "metadata": {
      "image/png": {
       "height": 319.0,
       "width": 355.0
      }
     },
     "output_type": "display_data"
    }
   ],
   "source": [
    "\"\"\"\n",
    "DON'T MODIFY ANYTHING IN THIS CELL\n",
    "\"\"\"\n",
    "%matplotlib inline\n",
    "%config InlineBackend.figure_format = 'retina'\n",
    "\n",
    "import tensorflow as tf\n",
    "import pickle\n",
    "import helper\n",
    "import random\n",
    "\n",
    "# Set batch size if not already set\n",
    "try:\n",
    "    if batch_size:\n",
    "        pass\n",
    "except NameError:\n",
    "    batch_size = 64\n",
    "\n",
    "save_model_path = './image_classification'\n",
    "n_samples = 4\n",
    "top_n_predictions = 3\n",
    "\n",
    "def test_model():\n",
    "    \"\"\"\n",
    "    Test the saved model against the test dataset\n",
    "    \"\"\"\n",
    "\n",
    "    test_features, test_labels = pickle.load(open('preprocess_test.p', mode='rb'))\n",
    "    loaded_graph = tf.Graph()\n",
    "\n",
    "    with tf.Session(graph=loaded_graph) as sess:\n",
    "        # Load model\n",
    "        loader = tf.train.import_meta_graph(save_model_path + '.meta')\n",
    "        loader.restore(sess, save_model_path)\n",
    "\n",
    "        # Get Tensors from loaded model\n",
    "        loaded_x = loaded_graph.get_tensor_by_name('x:0')\n",
    "        loaded_y = loaded_graph.get_tensor_by_name('y:0')\n",
    "        loaded_keep_prob = loaded_graph.get_tensor_by_name('keep_prob:0')\n",
    "        loaded_logits = loaded_graph.get_tensor_by_name('logits:0')\n",
    "        loaded_acc = loaded_graph.get_tensor_by_name('accuracy:0')\n",
    "        \n",
    "        # Get accuracy in batches for memory limitations\n",
    "        test_batch_acc_total = 0\n",
    "        test_batch_count = 0\n",
    "        \n",
    "        for test_feature_batch, test_label_batch in helper.batch_features_labels(test_features, test_labels, batch_size):\n",
    "            test_batch_acc_total += sess.run(\n",
    "                loaded_acc,\n",
    "                feed_dict={loaded_x: test_feature_batch, loaded_y: test_label_batch, loaded_keep_prob: 1.0})\n",
    "            test_batch_count += 1\n",
    "\n",
    "        print('Testing Accuracy: {}\\n'.format(test_batch_acc_total/test_batch_count))\n",
    "\n",
    "        # Print Random Samples\n",
    "        random_test_features, random_test_labels = tuple(zip(*random.sample(list(zip(test_features, test_labels)), n_samples)))\n",
    "        random_test_predictions = sess.run(\n",
    "            tf.nn.top_k(tf.nn.softmax(loaded_logits), top_n_predictions),\n",
    "            feed_dict={loaded_x: random_test_features, loaded_y: random_test_labels, loaded_keep_prob: 1.0})\n",
    "        helper.display_image_predictions(random_test_features, random_test_labels, random_test_predictions)\n",
    "\n",
    "\n",
    "test_model()"
   ]
  },
  {
   "cell_type": "markdown",
   "metadata": {},
   "source": [
    "## Why 50-80% Accuracy?\n",
    "You might be wondering why you can't get an accuracy any higher. First things first, 50% isn't bad for a simple CNN.  Pure guessing would get you 10% accuracy. However, you might notice people are getting scores [well above 80%](http://rodrigob.github.io/are_we_there_yet/build/classification_datasets_results.html#43494641522d3130).  That's because we haven't taught you all there is to know about neural networks. We still need to cover a few more techniques.\n",
    "## Submitting This Project\n",
    "When submitting this project, make sure to run all the cells before saving the notebook.  Save the notebook file as \"dlnd_image_classification.ipynb\" and save it as a HTML file under \"File\" -> \"Download as\".  Include the \"helper.py\" and \"problem_unittests.py\" files in your submission."
   ]
  },
  {
   "cell_type": "code",
   "execution_count": null,
   "metadata": {
    "collapsed": true
   },
   "outputs": [],
   "source": [
    ""
   ]
  }
 ],
 "metadata": {
  "anaconda-cloud": {},
  "kernelspec": {
   "display_name": "Python [default]",
   "language": "python",
   "name": "python3"
  },
  "language_info": {
   "codemirror_mode": {
    "name": "ipython",
    "version": 3.0
   },
   "file_extension": ".py",
   "mimetype": "text/x-python",
   "name": "python",
   "nbconvert_exporter": "python",
   "pygments_lexer": "ipython3",
   "version": "3.5.3"
  }
 },
 "nbformat": 4,
 "nbformat_minor": 0
}